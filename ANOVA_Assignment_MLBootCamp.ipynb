{
 "cells": [
  {
   "cell_type": "markdown",
   "id": "b19fc210",
   "metadata": {},
   "source": [
    "# One Way ANOVA Test"
   ]
  },
  {
   "cell_type": "code",
   "execution_count": 2,
   "id": "c51b7f2d",
   "metadata": {},
   "outputs": [],
   "source": [
    "from scipy.stats import f_oneway"
   ]
  },
  {
   "cell_type": "markdown",
   "id": "6a5c5837",
   "metadata": {},
   "source": [
    "A pharmaceutical company conducts an experiment to test the effect of a new cholesterol medication. The company selects 15 subjects randomly from a larger population. \n",
    "Each subject is randomly assigned to one of three treatment groups. \n",
    "Within each treatment group, subjects receive a different dose of the new medication. \n",
    "•\tIn Group 1, subjects receive 0 mg/day; \n",
    "•\tin Group 2, 50 mg/day; and \n",
    "•\tin Group 3, 100 mg/day.\n",
    "The treatment levels represent all the levels of interest to the experimenter, so this experiment used a fixed-effects model to select treatment levels for study.\n",
    "After 30 days, doctors measure the cholesterol level of each subject. The results for all 15 subjects appear in the table below:\n"
   ]
  },
  {
   "cell_type": "code",
   "execution_count": 3,
   "id": "b333a2de",
   "metadata": {},
   "outputs": [
    {
     "name": "stdout",
     "output_type": "stream",
     "text": [
      "4.16 0.04241751817647503\n"
     ]
    }
   ],
   "source": [
    "group1=[210,240,270,270,300] # 0 mg/day\n",
    "group2=[210,240,240,270,270] # 50 mg/day\n",
    "group3=[180,210,210,210,240] # 100 mg/day\n",
    "\n",
    "# Calculating F and P values\n",
    "f,p=f_oneway(group1,group2,group3)\n",
    "print(f,p)"
   ]
  },
  {
   "cell_type": "code",
   "execution_count": 4,
   "id": "690105ba",
   "metadata": {},
   "outputs": [
    {
     "name": "stdout",
     "output_type": "stream",
     "text": [
      "We reject the Null Hypothesis, and accepts the alternate hypothesis, which means cholesterol level is affected by dosage.\n"
     ]
    }
   ],
   "source": [
    "if p<0.05:\n",
    "    print('We reject the Null Hypothesis, and accepts the alternate hypothesis, which means cholesterol level is affected by dosage.')\n",
    "else:\n",
    "    print('Do not reject Null Hypothesis. There is no significant differences in the mean, which means cholestrol level is not affected by the dosage')"
   ]
  },
  {
   "cell_type": "code",
   "execution_count": 5,
   "id": "59ff0839",
   "metadata": {},
   "outputs": [],
   "source": [
    "import pandas as pd\n",
    "import numpy as np"
   ]
  },
  {
   "cell_type": "markdown",
   "id": "bf726c44",
   "metadata": {},
   "source": [
    "# Two way ANOVA"
   ]
  },
  {
   "cell_type": "code",
   "execution_count": 26,
   "id": "deb7bf09",
   "metadata": {},
   "outputs": [
    {
     "data": {
      "text/plain": [
       "'\\nThe following table gives monthly sale (in thousands) of a certain firm in three states by its \\n4 salesmen.\\n\\tSalesmen\\nStates\\tX1\\tX2\\tX3\\tX4\\n    Y1\\t6\\t5\\t3\\t8\\n    Y2\\t8\\t9\\t6\\t5\\n    Y3\\t10\\t7\\t8\\t7\\n\\nSetup the ANOVA table and test whether there is any significant \\n(i)\\tdifference between sales by the salesmen.\\n(ii)\\tDifference between sales in the 3 states. \\n'"
      ]
     },
     "execution_count": 26,
     "metadata": {},
     "output_type": "execute_result"
    }
   ],
   "source": [
    "'''\n",
    "The following table gives monthly sale (in thousands) of a certain firm in three states by its \n",
    "4 salesmen.\n",
    "\tSalesmen\n",
    "States\tX1\tX2\tX3\tX4\n",
    "    Y1\t6\t5\t3\t8\n",
    "    Y2\t8\t9\t6\t5\n",
    "    Y3\t10\t7\t8\t7\n",
    "\n",
    "Setup the ANOVA table and test whether there is any significant \n",
    "(i)\tdifference between sales by the salesmen.\n",
    "(ii)\tDifference between sales in the 3 states. \n",
    "'''"
   ]
  },
  {
   "cell_type": "code",
   "execution_count": 17,
   "id": "34a13a7d",
   "metadata": {},
   "outputs": [],
   "source": [
    "df=pd.read_csv(\"C:\\\\Users\\\\Venkatesh\\\\ano2way.csv\")"
   ]
  },
  {
   "cell_type": "code",
   "execution_count": 18,
   "id": "50ddaf9d",
   "metadata": {},
   "outputs": [
    {
     "data": {
      "text/html": [
       "<div>\n",
       "<style scoped>\n",
       "    .dataframe tbody tr th:only-of-type {\n",
       "        vertical-align: middle;\n",
       "    }\n",
       "\n",
       "    .dataframe tbody tr th {\n",
       "        vertical-align: top;\n",
       "    }\n",
       "\n",
       "    .dataframe thead th {\n",
       "        text-align: right;\n",
       "    }\n",
       "</style>\n",
       "<table border=\"1\" class=\"dataframe\">\n",
       "  <thead>\n",
       "    <tr style=\"text-align: right;\">\n",
       "      <th></th>\n",
       "      <th>ST</th>\n",
       "      <th>SM</th>\n",
       "      <th>VALUES</th>\n",
       "    </tr>\n",
       "  </thead>\n",
       "  <tbody>\n",
       "    <tr>\n",
       "      <th>0</th>\n",
       "      <td>ST1</td>\n",
       "      <td>SM1</td>\n",
       "      <td>6</td>\n",
       "    </tr>\n",
       "    <tr>\n",
       "      <th>1</th>\n",
       "      <td>ST1</td>\n",
       "      <td>SM2</td>\n",
       "      <td>5</td>\n",
       "    </tr>\n",
       "    <tr>\n",
       "      <th>2</th>\n",
       "      <td>ST1</td>\n",
       "      <td>SM3</td>\n",
       "      <td>3</td>\n",
       "    </tr>\n",
       "    <tr>\n",
       "      <th>3</th>\n",
       "      <td>ST1</td>\n",
       "      <td>SM4</td>\n",
       "      <td>8</td>\n",
       "    </tr>\n",
       "    <tr>\n",
       "      <th>4</th>\n",
       "      <td>ST2</td>\n",
       "      <td>SM1</td>\n",
       "      <td>8</td>\n",
       "    </tr>\n",
       "    <tr>\n",
       "      <th>5</th>\n",
       "      <td>ST2</td>\n",
       "      <td>SM2</td>\n",
       "      <td>9</td>\n",
       "    </tr>\n",
       "    <tr>\n",
       "      <th>6</th>\n",
       "      <td>ST2</td>\n",
       "      <td>SM3</td>\n",
       "      <td>6</td>\n",
       "    </tr>\n",
       "    <tr>\n",
       "      <th>7</th>\n",
       "      <td>ST2</td>\n",
       "      <td>SM4</td>\n",
       "      <td>5</td>\n",
       "    </tr>\n",
       "    <tr>\n",
       "      <th>8</th>\n",
       "      <td>ST3</td>\n",
       "      <td>SM1</td>\n",
       "      <td>10</td>\n",
       "    </tr>\n",
       "    <tr>\n",
       "      <th>9</th>\n",
       "      <td>ST3</td>\n",
       "      <td>SM2</td>\n",
       "      <td>7</td>\n",
       "    </tr>\n",
       "    <tr>\n",
       "      <th>10</th>\n",
       "      <td>ST3</td>\n",
       "      <td>SM3</td>\n",
       "      <td>8</td>\n",
       "    </tr>\n",
       "    <tr>\n",
       "      <th>11</th>\n",
       "      <td>ST3</td>\n",
       "      <td>SM4</td>\n",
       "      <td>7</td>\n",
       "    </tr>\n",
       "  </tbody>\n",
       "</table>\n",
       "</div>"
      ],
      "text/plain": [
       "     ST   SM  VALUES\n",
       "0   ST1  SM1       6\n",
       "1   ST1  SM2       5\n",
       "2   ST1  SM3       3\n",
       "3   ST1  SM4       8\n",
       "4   ST2  SM1       8\n",
       "5   ST2  SM2       9\n",
       "6   ST2  SM3       6\n",
       "7   ST2  SM4       5\n",
       "8   ST3  SM1      10\n",
       "9   ST3  SM2       7\n",
       "10  ST3  SM3       8\n",
       "11  ST3  SM4       7"
      ]
     },
     "execution_count": 18,
     "metadata": {},
     "output_type": "execute_result"
    }
   ],
   "source": [
    "df"
   ]
  },
  {
   "cell_type": "code",
   "execution_count": 23,
   "id": "5e2218c6",
   "metadata": {},
   "outputs": [],
   "source": [
    "import statsmodels.api as sm\n",
    "from statsmodels.formula.api import ols"
   ]
  },
  {
   "cell_type": "code",
   "execution_count": 27,
   "id": "b4fffb0c",
   "metadata": {},
   "outputs": [],
   "source": [
    "model=ols('VALUES~SM+ST',data=df).fit()\n",
    "anova=sm.stats.anova_lm(model,type=2)"
   ]
  },
  {
   "cell_type": "code",
   "execution_count": 28,
   "id": "2685aba0",
   "metadata": {},
   "outputs": [
    {
     "data": {
      "text/html": [
       "<div>\n",
       "<style scoped>\n",
       "    .dataframe tbody tr th:only-of-type {\n",
       "        vertical-align: middle;\n",
       "    }\n",
       "\n",
       "    .dataframe tbody tr th {\n",
       "        vertical-align: top;\n",
       "    }\n",
       "\n",
       "    .dataframe thead th {\n",
       "        text-align: right;\n",
       "    }\n",
       "</style>\n",
       "<table border=\"1\" class=\"dataframe\">\n",
       "  <thead>\n",
       "    <tr style=\"text-align: right;\">\n",
       "      <th></th>\n",
       "      <th>df</th>\n",
       "      <th>sum_sq</th>\n",
       "      <th>mean_sq</th>\n",
       "      <th>F</th>\n",
       "      <th>PR(&gt;F)</th>\n",
       "    </tr>\n",
       "  </thead>\n",
       "  <tbody>\n",
       "    <tr>\n",
       "      <th>SM</th>\n",
       "      <td>3.0</td>\n",
       "      <td>8.333333</td>\n",
       "      <td>2.777778</td>\n",
       "      <td>0.806452</td>\n",
       "      <td>0.534616</td>\n",
       "    </tr>\n",
       "    <tr>\n",
       "      <th>ST</th>\n",
       "      <td>2.0</td>\n",
       "      <td>12.666667</td>\n",
       "      <td>6.333333</td>\n",
       "      <td>1.838710</td>\n",
       "      <td>0.238328</td>\n",
       "    </tr>\n",
       "    <tr>\n",
       "      <th>Residual</th>\n",
       "      <td>6.0</td>\n",
       "      <td>20.666667</td>\n",
       "      <td>3.444444</td>\n",
       "      <td>NaN</td>\n",
       "      <td>NaN</td>\n",
       "    </tr>\n",
       "  </tbody>\n",
       "</table>\n",
       "</div>"
      ],
      "text/plain": [
       "           df     sum_sq   mean_sq         F    PR(>F)\n",
       "SM        3.0   8.333333  2.777778  0.806452  0.534616\n",
       "ST        2.0  12.666667  6.333333  1.838710  0.238328\n",
       "Residual  6.0  20.666667  3.444444       NaN       NaN"
      ]
     },
     "execution_count": 28,
     "metadata": {},
     "output_type": "execute_result"
    }
   ],
   "source": [
    "anova"
   ]
  },
  {
   "cell_type": "code",
   "execution_count": null,
   "id": "e8cbc5b6",
   "metadata": {},
   "outputs": [],
   "source": []
  }
 ],
 "metadata": {
  "kernelspec": {
   "display_name": "Python 3 (ipykernel)",
   "language": "python",
   "name": "python3"
  },
  "language_info": {
   "codemirror_mode": {
    "name": "ipython",
    "version": 3
   },
   "file_extension": ".py",
   "mimetype": "text/x-python",
   "name": "python",
   "nbconvert_exporter": "python",
   "pygments_lexer": "ipython3",
   "version": "3.9.13"
  }
 },
 "nbformat": 4,
 "nbformat_minor": 5
}
